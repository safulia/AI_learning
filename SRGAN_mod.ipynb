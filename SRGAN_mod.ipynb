{
  "nbformat": 4,
  "nbformat_minor": 0,
  "metadata": {
    "colab": {
      "name": "SRGAN-mod.ipynb",
      "provenance": [],
      "authorship_tag": "ABX9TyNCKvEhhav0l1v/7mEnAtWP",
      "include_colab_link": true
    },
    "kernelspec": {
      "name": "python3",
      "display_name": "Python 3"
    },
    "accelerator": "GPU"
  },
  "cells": [
    {
      "cell_type": "markdown",
      "metadata": {
        "id": "view-in-github",
        "colab_type": "text"
      },
      "source": [
        "<a href=\"https://colab.research.google.com/github/safulia/AI_learning/blob/master/SRGAN_mod.ipynb\" target=\"_parent\"><img src=\"https://colab.research.google.com/assets/colab-badge.svg\" alt=\"Open In Colab\"/></a>"
      ]
    },
    {
      "cell_type": "code",
      "metadata": {
        "id": "hOelNHwLG3Mw"
      },
      "source": [
        "!git clone https://github.com/safulia/AI_learning.git\n",
        "\n",
        "!pip install scipy==1.1.0"
      ],
      "execution_count": null,
      "outputs": []
    },
    {
      "cell_type": "code",
      "metadata": {
        "id": "nCMSOWEsNjRT"
      },
      "source": [
        "%cd AI_learning/"
      ],
      "execution_count": null,
      "outputs": []
    },
    {
      "cell_type": "code",
      "metadata": {
        "id": "GgH7DecDNu7j"
      },
      "source": [
        "!python test.py --input_low_res='./data_lr/' --output_dir='./output/' --model_dir='./model/gen_model3000.h5' --number_of_images=1 --test_type='test_lr_images'"
      ],
      "execution_count": null,
      "outputs": []
    }
  ]
}